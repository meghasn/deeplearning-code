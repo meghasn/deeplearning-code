{
  "nbformat": 4,
  "nbformat_minor": 0,
  "metadata": {
    "colab": {
      "name": "gradient_descent.ipynb",
      "provenance": []
    },
    "kernelspec": {
      "name": "python3",
      "display_name": "Python 3"
    },
    "language_info": {
      "name": "python"
    }
  },
  "cells": [
    {
      "cell_type": "code",
      "execution_count": null,
      "metadata": {
        "id": "BMLwS14w69hQ"
      },
      "outputs": [],
      "source": [
        "x=[.5,2.5]\n",
        "y=[.2,.9]"
      ]
    },
    {
      "cell_type": "code",
      "source": [
        "import numpy as np"
      ],
      "metadata": {
        "id": "xbvofYzI7qVe"
      },
      "execution_count": null,
      "outputs": []
    },
    {
      "cell_type": "code",
      "source": [
        "def f(w,b,x):\n",
        "  return 1/(1+np.exp^((-w*x)+b))\n",
        "def error(w,b):\n",
        "  e=0.0\n",
        "  for x,y in zip(x,y):\n",
        "    fx=f(w,b,x)\n",
        "    e+=.5*((fx-y)**2)\n",
        "  return e\n",
        "def grad_b(w,b,x,y):\n",
        "  fx=f(w,b,x)\n",
        "  return (fx-y)*fx*(1-fx)\n",
        "def grad_w(w,b,x,y):\n",
        "  fx=f(w,b,x)\n",
        "  return (fx-y)*fx*(1-fx)*x"
      ],
      "metadata": {
        "id": "JCKTF7Pz7TpR"
      },
      "execution_count": null,
      "outputs": []
    },
    {
      "cell_type": "code",
      "source": [
        "def gradient_descent():\n",
        "  w,b,eta,max_epochs=-2,2,1,1000\n",
        "  for i in range(max_epochs):\n",
        "    dw,db=0,0\n",
        "    for x,y in zip(x,y):\n",
        "      dw+=grad_b(w,b,x,y)\n",
        "      db+=grad_b(w,b,x,y)\n",
        "    w=w-(eta*dw)\n",
        "    b=b-(eta*db)\n",
        "\n"
      ],
      "metadata": {
        "id": "otMuX2tD9LbQ"
      },
      "execution_count": null,
      "outputs": []
    }
  ]
}